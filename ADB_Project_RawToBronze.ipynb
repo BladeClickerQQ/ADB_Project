{
 "cells": [
  {
   "cell_type": "code",
   "execution_count": 0,
   "metadata": {
    "application/vnd.databricks.v1+cell": {
     "cellMetadata": {
      "byteLimit": 2048000,
      "rowLimit": 10000
     },
     "inputWidgets": {},
     "nuid": "19279dd3-2624-4483-83f2-a96880268e56",
     "showTitle": false,
     "title": ""
    }
   },
   "outputs": [
    {
     "output_type": "display_data",
     "data": {
      "text/html": [
       "<style scoped>\n",
       "  .table-result-container {\n",
       "    max-height: 300px;\n",
       "    overflow: auto;\n",
       "  }\n",
       "  table, th, td {\n",
       "    border: 1px solid black;\n",
       "    border-collapse: collapse;\n",
       "  }\n",
       "  th, td {\n",
       "    padding: 5px;\n",
       "  }\n",
       "  th {\n",
       "    text-align: left;\n",
       "  }\n",
       "</style><div class='table-result-container'><table class='table-result'><thead style='background-color: white'><tr><th>path</th><th>name</th><th>size</th><th>modificationTime</th></tr></thead><tbody><tr><td>dbfs:/FileStore/tables/movie_merged.json/_SUCCESS</td><td>_SUCCESS</td><td>0</td><td>1691350084000</td></tr><tr><td>dbfs:/FileStore/tables/movie_merged.json/_committed_4430285703478620108</td><td>_committed_4430285703478620108</td><td>736</td><td>1691350084000</td></tr><tr><td>dbfs:/FileStore/tables/movie_merged.json/_started_4430285703478620108</td><td>_started_4430285703478620108</td><td>0</td><td>1691350081000</td></tr><tr><td>dbfs:/FileStore/tables/movie_merged.json/part-00000-tid-4430285703478620108-a43f2417-9d06-4b05-8909-6854bb135ffe-83-1-c000.json</td><td>part-00000-tid-4430285703478620108-a43f2417-9d06-4b05-8909-6854bb135ffe-83-1-c000.json</td><td>1139823</td><td>1691350083000</td></tr><tr><td>dbfs:/FileStore/tables/movie_merged.json/part-00001-tid-4430285703478620108-a43f2417-9d06-4b05-8909-6854bb135ffe-84-1-c000.json</td><td>part-00001-tid-4430285703478620108-a43f2417-9d06-4b05-8909-6854bb135ffe-84-1-c000.json</td><td>1114220</td><td>1691350083000</td></tr><tr><td>dbfs:/FileStore/tables/movie_merged.json/part-00002-tid-4430285703478620108-a43f2417-9d06-4b05-8909-6854bb135ffe-85-1-c000.json</td><td>part-00002-tid-4430285703478620108-a43f2417-9d06-4b05-8909-6854bb135ffe-85-1-c000.json</td><td>1106753</td><td>1691350083000</td></tr><tr><td>dbfs:/FileStore/tables/movie_merged.json/part-00003-tid-4430285703478620108-a43f2417-9d06-4b05-8909-6854bb135ffe-86-1-c000.json</td><td>part-00003-tid-4430285703478620108-a43f2417-9d06-4b05-8909-6854bb135ffe-86-1-c000.json</td><td>1096117</td><td>1691350083000</td></tr><tr><td>dbfs:/FileStore/tables/movie_merged.json/part-00004-tid-4430285703478620108-a43f2417-9d06-4b05-8909-6854bb135ffe-87-1-c000.json</td><td>part-00004-tid-4430285703478620108-a43f2417-9d06-4b05-8909-6854bb135ffe-87-1-c000.json</td><td>1096200</td><td>1691350083000</td></tr><tr><td>dbfs:/FileStore/tables/movie_merged.json/part-00005-tid-4430285703478620108-a43f2417-9d06-4b05-8909-6854bb135ffe-88-1-c000.json</td><td>part-00005-tid-4430285703478620108-a43f2417-9d06-4b05-8909-6854bb135ffe-88-1-c000.json</td><td>1094141</td><td>1691350083000</td></tr><tr><td>dbfs:/FileStore/tables/movie_merged.json/part-00006-tid-4430285703478620108-a43f2417-9d06-4b05-8909-6854bb135ffe-89-1-c000.json</td><td>part-00006-tid-4430285703478620108-a43f2417-9d06-4b05-8909-6854bb135ffe-89-1-c000.json</td><td>1089171</td><td>1691350083000</td></tr><tr><td>dbfs:/FileStore/tables/movie_merged.json/part-00007-tid-4430285703478620108-a43f2417-9d06-4b05-8909-6854bb135ffe-90-1-c000.json</td><td>part-00007-tid-4430285703478620108-a43f2417-9d06-4b05-8909-6854bb135ffe-90-1-c000.json</td><td>1088506</td><td>1691350083000</td></tr></tbody></table></div>"
      ]
     },
     "metadata": {
      "application/vnd.databricks.v1+output": {
       "addedWidgets": {},
       "aggData": [],
       "aggError": "",
       "aggOverflow": false,
       "aggSchema": [],
       "aggSeriesLimitReached": false,
       "aggType": "",
       "arguments": {},
       "columnCustomDisplayInfos": {},
       "data": [
        [
         "dbfs:/FileStore/tables/movie_merged.json/_SUCCESS",
         "_SUCCESS",
         0,
         1691350084000
        ],
        [
         "dbfs:/FileStore/tables/movie_merged.json/_committed_4430285703478620108",
         "_committed_4430285703478620108",
         736,
         1691350084000
        ],
        [
         "dbfs:/FileStore/tables/movie_merged.json/_started_4430285703478620108",
         "_started_4430285703478620108",
         0,
         1691350081000
        ],
        [
         "dbfs:/FileStore/tables/movie_merged.json/part-00000-tid-4430285703478620108-a43f2417-9d06-4b05-8909-6854bb135ffe-83-1-c000.json",
         "part-00000-tid-4430285703478620108-a43f2417-9d06-4b05-8909-6854bb135ffe-83-1-c000.json",
         1139823,
         1691350083000
        ],
        [
         "dbfs:/FileStore/tables/movie_merged.json/part-00001-tid-4430285703478620108-a43f2417-9d06-4b05-8909-6854bb135ffe-84-1-c000.json",
         "part-00001-tid-4430285703478620108-a43f2417-9d06-4b05-8909-6854bb135ffe-84-1-c000.json",
         1114220,
         1691350083000
        ],
        [
         "dbfs:/FileStore/tables/movie_merged.json/part-00002-tid-4430285703478620108-a43f2417-9d06-4b05-8909-6854bb135ffe-85-1-c000.json",
         "part-00002-tid-4430285703478620108-a43f2417-9d06-4b05-8909-6854bb135ffe-85-1-c000.json",
         1106753,
         1691350083000
        ],
        [
         "dbfs:/FileStore/tables/movie_merged.json/part-00003-tid-4430285703478620108-a43f2417-9d06-4b05-8909-6854bb135ffe-86-1-c000.json",
         "part-00003-tid-4430285703478620108-a43f2417-9d06-4b05-8909-6854bb135ffe-86-1-c000.json",
         1096117,
         1691350083000
        ],
        [
         "dbfs:/FileStore/tables/movie_merged.json/part-00004-tid-4430285703478620108-a43f2417-9d06-4b05-8909-6854bb135ffe-87-1-c000.json",
         "part-00004-tid-4430285703478620108-a43f2417-9d06-4b05-8909-6854bb135ffe-87-1-c000.json",
         1096200,
         1691350083000
        ],
        [
         "dbfs:/FileStore/tables/movie_merged.json/part-00005-tid-4430285703478620108-a43f2417-9d06-4b05-8909-6854bb135ffe-88-1-c000.json",
         "part-00005-tid-4430285703478620108-a43f2417-9d06-4b05-8909-6854bb135ffe-88-1-c000.json",
         1094141,
         1691350083000
        ],
        [
         "dbfs:/FileStore/tables/movie_merged.json/part-00006-tid-4430285703478620108-a43f2417-9d06-4b05-8909-6854bb135ffe-89-1-c000.json",
         "part-00006-tid-4430285703478620108-a43f2417-9d06-4b05-8909-6854bb135ffe-89-1-c000.json",
         1089171,
         1691350083000
        ],
        [
         "dbfs:/FileStore/tables/movie_merged.json/part-00007-tid-4430285703478620108-a43f2417-9d06-4b05-8909-6854bb135ffe-90-1-c000.json",
         "part-00007-tid-4430285703478620108-a43f2417-9d06-4b05-8909-6854bb135ffe-90-1-c000.json",
         1088506,
         1691350083000
        ]
       ],
       "datasetInfos": [],
       "dbfsResultPath": null,
       "isJsonSchema": true,
       "metadata": {
        "isDbfsCommandResult": false
       },
       "overflow": false,
       "plotOptions": {
        "customPlotOptions": {},
        "displayType": "table",
        "pivotAggregation": null,
        "pivotColumns": null,
        "xColumns": null,
        "yColumns": null
       },
       "removedWidgets": [],
       "schema": [
        {
         "metadata": "{}",
         "name": "path",
         "type": "\"string\""
        },
        {
         "metadata": "{}",
         "name": "name",
         "type": "\"string\""
        },
        {
         "metadata": "{}",
         "name": "size",
         "type": "\"long\""
        },
        {
         "metadata": "{}",
         "name": "modificationTime",
         "type": "\"long\""
        }
       ],
       "type": "table"
      }
     },
     "output_type": "display_data"
    }
   ],
   "source": [
    "%fs ls dbfs:/FileStore/tables/movie_merged.json"
   ]
  },
  {
   "cell_type": "code",
   "execution_count": 0,
   "metadata": {
    "application/vnd.databricks.v1+cell": {
     "cellMetadata": {
      "byteLimit": 2048000,
      "rowLimit": 10000
     },
     "inputWidgets": {},
     "nuid": "e8f9edaf-d8bf-4451-b249-3210703f044d",
     "showTitle": false,
     "title": ""
    }
   },
   "outputs": [],
   "source": [
    "from datetime import datetime\n",
    "from pyspark.sql.functions import col,lit,explode\n",
    "\n",
    "df = spark.read.json('dbfs:/FileStore/tables/movie_merged.json')\n",
    "# df = df.select(explode(df.movie))\n",
    "df.select('movie')\n",
    "\n",
    "#Add information\n",
    "df = df.select(explode('movie').alias('movie'),\n",
    "               lit('movie_dataset').alias('DataSource'),\n",
    "               lit(datetime.utcnow()).alias('IngestTime'),\n",
    "               lit(datetime.utcnow()).alias('ModifiedDate'),\n",
    "               lit('new').alias('Status'))\n",
    "\n",
    "#store dataframe\n",
    "# df.write.mode('overwrite').parquet('dbfs:/FileStore/tables/movie_bronze.parquet')\n",
    "df.write.mode('overwrite').format('delta').save('dbfs:/FileStore/tables/movie_bronze.delta')"
   ]
  },
  {
   "cell_type": "code",
   "execution_count": 0,
   "metadata": {
    "application/vnd.databricks.v1+cell": {
     "cellMetadata": {
      "byteLimit": 2048000,
      "rowLimit": 10000
     },
     "inputWidgets": {},
     "nuid": "939f4471-35e7-4235-aa23-a1df5055a7ba",
     "showTitle": false,
     "title": ""
    }
   },
   "outputs": [
    {
     "output_type": "stream",
     "name": "stdout",
     "output_type": "stream",
     "text": [
      "+--------------------+-------------+--------------------+--------------------+------+\n|               movie|   DataSource|          IngestTime|        ModifiedDate|Status|\n+--------------------+-------------+--------------------+--------------------+------+\n|{https://image.tm...|movie_dataset|2023-08-07 02:15:...|2023-08-07 02:15:...|   new|\n|{https://image.tm...|movie_dataset|2023-08-07 02:15:...|2023-08-07 02:15:...|   new|\n|{https://image.tm...|movie_dataset|2023-08-07 02:15:...|2023-08-07 02:15:...|   new|\n|{https://image.tm...|movie_dataset|2023-08-07 02:15:...|2023-08-07 02:15:...|   new|\n|{https://image.tm...|movie_dataset|2023-08-07 02:15:...|2023-08-07 02:15:...|   new|\n|{https://image.tm...|movie_dataset|2023-08-07 02:15:...|2023-08-07 02:15:...|   new|\n|{https://image.tm...|movie_dataset|2023-08-07 02:15:...|2023-08-07 02:15:...|   new|\n|{https://image.tm...|movie_dataset|2023-08-07 02:15:...|2023-08-07 02:15:...|   new|\n|{https://image.tm...|movie_dataset|2023-08-07 02:15:...|2023-08-07 02:15:...|   new|\n|{https://image.tm...|movie_dataset|2023-08-07 02:15:...|2023-08-07 02:15:...|   new|\n|{https://image.tm...|movie_dataset|2023-08-07 02:15:...|2023-08-07 02:15:...|   new|\n|{https://image.tm...|movie_dataset|2023-08-07 02:15:...|2023-08-07 02:15:...|   new|\n|{https://image.tm...|movie_dataset|2023-08-07 02:15:...|2023-08-07 02:15:...|   new|\n|{https://image.tm...|movie_dataset|2023-08-07 02:15:...|2023-08-07 02:15:...|   new|\n|{https://image.tm...|movie_dataset|2023-08-07 02:15:...|2023-08-07 02:15:...|   new|\n|{https://image.tm...|movie_dataset|2023-08-07 02:15:...|2023-08-07 02:15:...|   new|\n|{https://image.tm...|movie_dataset|2023-08-07 02:15:...|2023-08-07 02:15:...|   new|\n|{https://image.tm...|movie_dataset|2023-08-07 02:15:...|2023-08-07 02:15:...|   new|\n|{https://image.tm...|movie_dataset|2023-08-07 02:15:...|2023-08-07 02:15:...|   new|\n|{https://image.tm...|movie_dataset|2023-08-07 02:15:...|2023-08-07 02:15:...|   new|\n+--------------------+-------------+--------------------+--------------------+------+\nonly showing top 20 rows\n\n"
     ]
    }
   ],
   "source": [
    "spark.read.load('dbfs:/FileStore/tables/movie_bronze.delta').show()"
   ]
  },
  {
   "cell_type": "code",
   "execution_count": 0,
   "metadata": {
    "application/vnd.databricks.v1+cell": {
     "cellMetadata": {},
     "inputWidgets": {},
     "nuid": "662c2dfb-a2df-43eb-a96f-6c791357fbe5",
     "showTitle": false,
     "title": ""
    }
   },
   "outputs": [],
   "source": []
  }
 ],
 "metadata": {
  "application/vnd.databricks.v1+notebook": {
   "dashboards": [],
   "language": "python",
   "notebookMetadata": {
    "mostRecentlyExecutedCommandWithImplicitDF": {
     "commandId": 673072840758949,
     "dataframes": [
      "_sqldf"
     ]
    },
    "pythonIndentUnit": 4
   },
   "notebookName": "ADB_Project_RawToBronze",
   "widgets": {}
  }
 },
 "nbformat": 4,
 "nbformat_minor": 0
}
